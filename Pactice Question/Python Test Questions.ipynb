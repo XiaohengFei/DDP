{
 "cells": [
  {
   "cell_type": "markdown",
   "id": "1d6ced01",
   "metadata": {},
   "source": [
    "# Morse Code Translator Function"
   ]
  },
  {
   "cell_type": "code",
   "execution_count": 1,
   "id": "5158e8d7",
   "metadata": {},
   "outputs": [
    {
     "name": "stdout",
     "output_type": "stream",
     "text": [
      ".--. -.-- - .... --- -.\n"
     ]
    }
   ],
   "source": [
    "def morse_translator(input_string):\n",
    "    morse_code_dict = {\n",
    "        'A': '.-', 'B': '-...', 'C': '-.-.', 'D': '-..', 'E': '.', 'F': '..-.', 'G': '--.', 'H': '....', 'I': '..', 'J': '.---',\n",
    "        'K': '-.-', 'L': '.-..', 'M': '--', 'N': '-.', 'O': '---', 'P': '.--.', 'Q': '--.-', 'R': '.-.', 'S': '...', 'T': '-',\n",
    "        'U': '..-', 'V': '...-', 'W': '.--', 'X': '-..-', 'Y': '-.--', 'Z': '--..',\n",
    "        'a': '.-', 'b': '-...', 'c': '-.-.', 'd': '-..', 'e': '.', 'f': '..-.', 'g': '--.', 'h': '....', 'i': '..', 'j': '.---',\n",
    "        'k': '-.-', 'l': '.-..', 'm': '--', 'n': '-.', 'o': '---', 'p': '.--.', 'q': '--.-', 'r': '.-.', 's': '...', 't': '-',\n",
    "        'u': '..-', 'v': '...-', 'w': '.--', 'x': '-..-', 'y': '-.--', 'z': '--..',\n",
    "        ' ': '/'\n",
    "    }\n",
    "\n",
    "    morse_result = []\n",
    "    for char in input_string:\n",
    "        if char in morse_code_dict:\n",
    "            morse_result.append(morse_code_dict[char])\n",
    "\n",
    "    return ' '.join(morse_result)\n",
    "\n",
    "# Example usage:\n",
    "input_str = \"Python\"\n",
    "result = morse_translator(input_str)\n",
    "print(result)"
   ]
  },
  {
   "cell_type": "markdown",
   "id": "8ef0ae3a",
   "metadata": {},
   "source": [
    "# Letter Case Counter Function"
   ]
  },
  {
   "cell_type": "code",
   "execution_count": 2,
   "id": "dc5ab3f8",
   "metadata": {},
   "outputs": [
    {
     "name": "stdout",
     "output_type": "stream",
     "text": [
      "Uppercase letters: 2\n",
      "Lowercase letters: 8\n"
     ]
    }
   ],
   "source": [
    "def case_counter(input_string):\n",
    "    uppercase_count = 0\n",
    "    lowercase_count = 0\n",
    "\n",
    "    for char in input_string:\n",
    "        if char.isalpha(): # Solution if the string contains special characters\n",
    "            if char.isupper(): \n",
    "                uppercase_count += 1\n",
    "            elif char.islower():\n",
    "                lowercase_count += 1\n",
    "\n",
    "    print(\"Uppercase letters:\", uppercase_count)\n",
    "    print(\"Lowercase letters:\", lowercase_count)\n",
    "\n",
    "# Example usage:\n",
    "input_str = \"Hello World 123\"\n",
    "case_counter(input_str)"
   ]
  },
  {
   "cell_type": "markdown",
   "id": "0e8258d0",
   "metadata": {},
   "source": [
    "# Word Occurrence Function:"
   ]
  },
  {
   "cell_type": "code",
   "execution_count": 3,
   "id": "636f00ae",
   "metadata": {},
   "outputs": [
    {
     "name": "stdout",
     "output_type": "stream",
     "text": [
      "The word 'sample' appears 4 times in the text.\n"
     ]
    }
   ],
   "source": [
    "import re\n",
    "\n",
    "def word_occurrence(text, word):\n",
    "    # 使用正则表达式找到所有匹配的单词\n",
    "    word_pattern = re.compile(r'\\b{}\\b'.format(re.escape(word)), re.IGNORECASE)\n",
    "    matches = word_pattern.findall(text)\n",
    "\n",
    "    # 返回匹配到的单词次数\n",
    "    return len(matches)\n",
    "\n",
    "# Example usage:\n",
    "text = \"This is a sample text. This text contains the word 'sample' multiple times, Sample, sample.\"\n",
    "word_to_find = \"sample\"\n",
    "result = word_occurrence(text, word_to_find)\n",
    "print(f\"The word '{word_to_find}' appears {result} times in the text.\")\n"
   ]
  },
  {
   "cell_type": "markdown",
   "id": "b39bc092",
   "metadata": {},
   "source": [
    "在这个例子中，我们使用正则表达式来匹配单词边界（\\b）并忽略大小写 (re.IGNORECASE)。然后使用 findall 方法找到所有匹配的单词。最后，返回匹配到的单词的数量作为整个单词出现的次数。"
   ]
  },
  {
   "cell_type": "code",
   "execution_count": null,
   "id": "ffe953bd",
   "metadata": {},
   "outputs": [],
   "source": []
  }
 ],
 "metadata": {
  "kernelspec": {
   "display_name": "Python 3",
   "language": "python",
   "name": "python3"
  },
  "language_info": {
   "codemirror_mode": {
    "name": "ipython",
    "version": 3
   },
   "file_extension": ".py",
   "mimetype": "text/x-python",
   "name": "python",
   "nbconvert_exporter": "python",
   "pygments_lexer": "ipython3",
   "version": "3.6.8"
  }
 },
 "nbformat": 4,
 "nbformat_minor": 5
}
