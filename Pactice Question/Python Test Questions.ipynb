{
 "cells": [
  {
   "cell_type": "markdown",
   "id": "1d6ced01",
   "metadata": {},
   "source": [
    "# Q1. Morse Code Translator Function"
   ]
  },
  {
   "cell_type": "code",
   "execution_count": 1,
   "id": "5158e8d7",
   "metadata": {
    "is_executing": true
   },
   "outputs": [
    {
     "name": "stdout",
     "output_type": "stream",
     "text": [
      ".... . .-.. .-.. --- / .-- --- .-. .-.. -..\n",
      ".--. -.-- - .... --- -.\n",
      "-- --- .-. ... . / -.-. --- -.. .\n"
     ]
    }
   ],
   "source": [
    "def morse_translator(input_string):\n",
    "    morse_code_dict = {\n",
    "        'A': '.-', 'B': '-...', 'C': '-.-.', 'D': '-..', 'E': '.', 'F': '..-.', 'G': '--.', 'H': '....', 'I': '..', 'J': '.---',\n",
    "        'K': '-.-', 'L': '.-..', 'M': '--', 'N': '-.', 'O': '---', 'P': '.--.', 'Q': '--.-', 'R': '.-.', 'S': '...', 'T': '-',\n",
    "        'U': '..-', 'V': '...-', 'W': '.--', 'X': '-..-', 'Y': '-.--', 'Z': '--..',\n",
    "        'a': '.-', 'b': '-...', 'c': '-.-.', 'd': '-..', 'e': '.', 'f': '..-.', 'g': '--.', 'h': '....', 'i': '..', 'j': '.---',\n",
    "        'k': '-.-', 'l': '.-..', 'm': '--', 'n': '-.', 'o': '---', 'p': '.--.', 'q': '--.-', 'r': '.-.', 's': '...', 't': '-',\n",
    "        'u': '..-', 'v': '...-', 'w': '.--', 'x': '-..-', 'y': '-.--', 'z': '--..',\n",
    "        ' ': '/'\n",
    "    }\n",
    "\n",
    "    morse_result = []\n",
    "    for char in input_string:\n",
    "        if char in morse_code_dict:\n",
    "            morse_result.append(morse_code_dict[char])\n",
    "\n",
    "    return ' '.join(morse_result)\n",
    "\n",
    "# Test cases\n",
    "print(\n",
    "    morse_translator(\"HELLO WORLD\")\n",
    ")  # Expected output: \".... . .-.. .-.. --- / .-- --- .-. .-.. -..\"\n",
    "print(morse_translator(\"Python\"))  # Expected output: \".--. -.-- - .... --- -.\"\n",
    "print(\n",
    "    morse_translator(\"Morse Code\")\n",
    ")  # Expected output: \"-- --- .-. ... . / -.-. --- -.. .\"\n"
   ]
  },
  {
   "cell_type": "markdown",
   "id": "8ef0ae3a",
   "metadata": {},
   "source": [
    "# Q2. Letter Case Counter Function"
   ]
  },
  {
   "cell_type": "code",
   "execution_count": 2,
   "id": "dc5ab3f8",
   "metadata": {},
   "outputs": [
    {
     "name": "stdout",
     "output_type": "stream",
     "text": [
      "Uppercase letters: 2\n",
      "Lowercase letters: 8\n",
      "Uppercase letters: 6\n",
      "Lowercase letters: 0\n",
      "Uppercase letters: 0\n",
      "Lowercase letters: 6\n",
      "Uppercase letters: 0\n",
      "Lowercase letters: 0\n"
     ]
    }
   ],
   "source": [
    "def case_counter(input_string):\n",
    "    uppercase_count = 0\n",
    "    lowercase_count = 0\n",
    "\n",
    "    for char in input_string:\n",
    "        if char.isalpha(): # Solution if the string contains special characters\n",
    "            if char.isupper(): \n",
    "                uppercase_count += 1\n",
    "            elif char.islower():\n",
    "                lowercase_count += 1\n",
    "\n",
    "    print(\"Uppercase letters:\", uppercase_count)\n",
    "    print(\"Lowercase letters:\", lowercase_count)\n",
    "\n",
    "# Test cases\n",
    "case_counter(\"Hello World!\")  # Expected: Uppercase letters: 2, Lowercase letters: 8\n",
    "case_counter(\"PYTHON\")  # Expected: Uppercase letters: 6, Lowercase letters: 0\n",
    "case_counter(\"python\")  # Expected: Uppercase letters: 0, Lowercase letters: 6\n",
    "case_counter(\"1234!@#$\")  # Expected: Uppercase letters: 0, Lowercase letters: 0\n"
   ]
  },
  {
   "cell_type": "markdown",
   "id": "330bb13d",
   "metadata": {},
   "source": [
    "# Q3. Speeding Ticket"
   ]
  },
  {
   "cell_type": "code",
   "execution_count": 3,
   "id": "d9907694",
   "metadata": {},
   "outputs": [
    {
     "name": "stdout",
     "output_type": "stream",
     "text": [
      "No Ticket\n",
      "Small Ticket\n",
      "Big Ticket\n",
      "No Ticket\n",
      "Small Ticket\n"
     ]
    }
   ],
   "source": [
    "def speeding_ticket(speed, is_birthday):\n",
    "    # Rate limit adjustments based on whether it's your birthday or not\n",
    "    if is_birthday:\n",
    "        speed_limit_no_ticket = 65\n",
    "        speed_limit_small_ticket = 85\n",
    "    else:\n",
    "        speed_limit_no_ticket = 60\n",
    "        speed_limit_small_ticket = 80\n",
    "\n",
    "    # Returns the appropriate string based on speed\n",
    "    if speed <= speed_limit_no_ticket:\n",
    "        return \"No Ticket\"\n",
    "    elif speed <= speed_limit_small_ticket:\n",
    "        return \"Small Ticket\"\n",
    "    else:\n",
    "        return \"Big Ticket\"\n",
    "\n",
    "\n",
    "\n",
    "# Test cases\n",
    "print(speeding_ticket(60, False))  # Expected output: \"No Ticket\"\n",
    "print(speeding_ticket(75, False))  # Expected output: \"Small Ticket\"\n",
    "print(speeding_ticket(85, False))  # Expected output: \"Big Ticket\"\n",
    "print(speeding_ticket(65, True))   # Expected output: \"No Ticket\"\n",
    "print(speeding_ticket(85, True))   # Expected output: \"Small Ticket\"\n"
   ]
  },
  {
   "cell_type": "markdown",
   "id": "d388ea25",
   "metadata": {},
   "source": [
    "# Q4. Word Filter"
   ]
  },
  {
   "cell_type": "code",
   "execution_count": 4,
   "id": "5d664e81",
   "metadata": {},
   "outputs": [
    {
     "name": "stdout",
     "output_type": "stream",
     "text": [
      "{'hello': 2}\n",
      "{'the': 1}\n",
      "{'is': 2, 'this': 2, 'just': 1}\n",
      "{'we': 1, 'the': 1, 'or': 1}\n"
     ]
    }
   ],
   "source": [
    "def word_filter_counter(text, filter_words):\n",
    "    # Initialise an empty dictionary to store the count of filtered words\n",
    "    word_counts = {}\n",
    "\n",
    "    # Replaces punctuation in text with spaces and splits text into word lists\n",
    "    cleaned_text = \"\".join(\n",
    "        char if char.isalnum() or char.isspace() else \" \" for char in text\n",
    "    )\n",
    "    words = cleaned_text.lower().split()\n",
    "\n",
    "    # Iterate through the list of filtered words\n",
    "    for filter_word in filter_words:\n",
    "        # Initialise filter word count to 0\n",
    "        word_counts[filter_word] = 0\n",
    "        # Iterate over the words in the text and increment the count if they match the filtered words\n",
    "        for word in words:\n",
    "            if word.lower() == filter_word.lower():\n",
    "                word_counts[filter_word] += 1\n",
    "\n",
    "    return word_counts\n",
    "\n",
    "\n",
    "# Test cases\n",
    "print(\n",
    "    word_filter_counter(\"Hello world, hello!\", [\"hello\"])\n",
    ")  # Expected output: {'hello': 2}\n",
    "print(\n",
    "    word_filter_counter(\"The quick brown fox.\", [\"the\"])\n",
    ")  # Expected output: {'the': 1}\n",
    "print(\n",
    "    word_filter_counter(\n",
    "        \"Is this real life? Is this just fantasy?\", [\"is\", \"this\", \"just\"]\n",
    "    )\n",
    ")  # Expected output: {'is': 2, 'this': 2, 'just': 1}\n",
    "print(\n",
    "    word_filter_counter(\n",
    "        \"Do we see the big picture or just small details?\", [\"we\", \"the\", \"or\"]\n",
    "    )\n",
    ")  # Expected output: {'we': 1, 'the': 1, 'or': 1}\n"
   ]
  },
  {
   "cell_type": "markdown",
   "id": "f82fc331",
   "metadata": {},
   "source": [
    "# Q5. Prime Number Checker"
   ]
  },
  {
   "cell_type": "code",
   "execution_count": 5,
   "id": "ffe953bd",
   "metadata": {},
   "outputs": [
    {
     "name": "stdout",
     "output_type": "stream",
     "text": [
      "True\n",
      "False\n",
      "True\n",
      "False\n"
     ]
    }
   ],
   "source": [
    "def is_prime(number):\n",
    "    if number < 2:\n",
    "        return False\n",
    "    for i in range(2, int(number**0.5) + 1):\n",
    "        if number % i == 0:\n",
    "            return False\n",
    "    return True\n",
    "\n",
    "\n",
    "# Test cases\n",
    "print(is_prime(11))  # Expected output: True\n",
    "print(is_prime(4))  # Expected output: False\n",
    "print(is_prime(2))  # Expected output: True\n",
    "print(is_prime(1))  # Expected output: False"
   ]
  },
  {
   "cell_type": "markdown",
   "id": "3392b87e",
   "metadata": {},
   "source": [
    "# Q6. Leap Year Checker"
   ]
  },
  {
   "cell_type": "code",
   "execution_count": 6,
   "id": "86e1c2a6",
   "metadata": {},
   "outputs": [
    {
     "name": "stdout",
     "output_type": "stream",
     "text": [
      "True\n",
      "False\n",
      "True\n",
      "False\n"
     ]
    }
   ],
   "source": [
    "def is_leap_year(year):\n",
    "    if year % 4 == 0:  # If the year is divisible by 4\n",
    "        if year % 100 == 0:  # If the year is a century year\n",
    "            if year % 400 == 0:  # If it's the year of the century and divisible by 400.\n",
    "                return True  # It's a leap year.\n",
    "            else:\n",
    "                return False  # Not a leap year.\n",
    "        else:\n",
    "            return True  # If it is not a century and is divisible by 4, it is a leap year.\n",
    "    else:\n",
    "        return False  # Not divisible by 4. Not a leap year.\n",
    "\n",
    "# Test cases\n",
    "print(is_leap_year(2020))  # Expected output: True\n",
    "print(is_leap_year(1900))  # Expected output: False\n",
    "print(is_leap_year(2000))  # Expected output: True\n",
    "print(is_leap_year(2019))  # Expected output: False\n"
   ]
  },
  {
   "cell_type": "markdown",
   "id": "979730f5",
   "metadata": {},
   "source": [
    "# Q7. Date Scheduler"
   ]
  },
  {
   "cell_type": "code",
   "execution_count": 7,
   "id": "e7e4cbad",
   "metadata": {},
   "outputs": [
    {
     "name": "stdout",
     "output_type": "stream",
     "text": [
      "Scheduled date has passed\n",
      "Scheduled date is today\n",
      "Scheduled date is yet to pass\n"
     ]
    }
   ],
   "source": [
    "from datetime import datetime\n",
    "\n",
    "def date_passed(todays_date, scheduled_date):\n",
    "    # Convert a string date to a date object\n",
    "    today = datetime.strptime(todays_date, \"%dth %B\")\n",
    "    scheduled = datetime.strptime(scheduled_date, \"%dth %B\")\n",
    "\n",
    "    # Comparison date\n",
    "    if scheduled < today:\n",
    "        print(\"Scheduled date has passed\")\n",
    "    elif scheduled == today:\n",
    "        print(\"Scheduled date is today\")\n",
    "    else:\n",
    "        print(\"Scheduled date is yet to pass\")\n",
    "\n",
    "# Test cases\n",
    "date_passed(\"26th March\", \"25th March\")  # Expected: Scheduled date has passed\n",
    "date_passed(\"26th March\", \"26th March\")  # Expected: Scheduled date is today\n",
    "date_passed(\"26th March\", \"27th March\")  # Expected: Scheduled date is yet to pass\n"
   ]
  },
  {
   "cell_type": "markdown",
   "id": "752d3a2b",
   "metadata": {},
   "source": [
    "# Q8. Compound Interest Calculator"
   ]
  },
  {
   "cell_type": "code",
   "execution_count": 8,
   "id": "f10e9c81",
   "metadata": {},
   "outputs": [
    {
     "name": "stdout",
     "output_type": "stream",
     "text": [
      "1283.36\n",
      "1000.8\n",
      "1849.55\n"
     ]
    }
   ],
   "source": [
    "def compound_interest_calculator(P, r, n, t):\n",
    "    # Ensure all input parameters are valid\n",
    "    if P <= 0 or r <= 0 or n <= 0 or t <= 0:\n",
    "        return \"Invalid input. All parameters must be positive.\"\n",
    "\n",
    "    # Compound interest calculation\n",
    "    A = P * (1 + r/n)**(n*t)\n",
    "    return round(A, 2)  # Rounding to two decimal places\n",
    "\n",
    "# Test cases\n",
    "print(compound_interest_calculator(1000, 0.05, 12, 5))  # Expected: Amount after 5 years\n",
    "print(compound_interest_calculator(500, 0.07, 4, 10))  # Expected: Amount after 10 years\n",
    "print(compound_interest_calculator(1500, 0.03, 6, 7))  # Expected: Amount after 7 years\n"
   ]
  },
  {
   "cell_type": "markdown",
   "id": "32936949",
   "metadata": {},
   "source": [
    "# Q9. Factorial Calculator"
   ]
  },
  {
   "cell_type": "code",
   "execution_count": 9,
   "id": "7808e86d",
   "metadata": {},
   "outputs": [
    {
     "name": "stdout",
     "output_type": "stream",
     "text": [
      "120\n",
      "1\n",
      "6\n",
      "Error: Negative input\n"
     ]
    }
   ],
   "source": [
    "def calculate_factorial(number):\n",
    "    # Handle special cases: return an error message or a specific value when the input is negative\n",
    "    if number < 0:\n",
    "        return \"Error: Negative input\"\n",
    "\n",
    "    # Initialise factorial result to 1\n",
    "    factorial = 1\n",
    "\n",
    "    # Calculate factorial\n",
    "    for i in range(1, number + 1):\n",
    "        factorial *= i\n",
    "\n",
    "    return factorial\n",
    "\n",
    "\n",
    "# Test cases\n",
    "print(calculate_factorial(5))  # Expected output: 120\n",
    "print(calculate_factorial(0))  # Expected output: 1\n",
    "print(calculate_factorial(3))  # Expected output: 6\n",
    "print(calculate_factorial(-1))  # Expected: Error message or specific value\n"
   ]
  },
  {
   "cell_type": "markdown",
   "id": "c123dfee",
   "metadata": {},
   "source": [
    "# Q10.  File Fibonacci Sequence Calculator "
   ]
  },
  {
   "cell_type": "code",
   "execution_count": 10,
   "id": "a89da17a",
   "metadata": {},
   "outputs": [
    {
     "name": "stdout",
     "output_type": "stream",
     "text": [
      "[0, 1, 1, 2, 3, 5, 8]\n",
      "[0, 1, 1]\n",
      "[0]\n",
      "Error: Negative input\n"
     ]
    }
   ],
   "source": [
    "def fibonacci_sequence(max_value):\n",
    "    # Handle special cases: return an error message or a specific value when the input is negative\n",
    "    if max_value < 0:\n",
    "        return \"Error: Negative input\"\n",
    "    elif max_value == 0:\n",
    "        return [0]\n",
    "\n",
    "    # Initialise the first two digits of the Fibonacci sequence.\n",
    "    fibonacci_sequence = [0, 1]\n",
    "\n",
    "    # Generate Fibonacci sequence until max_value is reached\n",
    "    while fibonacci_sequence[-1] + fibonacci_sequence[-2] <= max_value:\n",
    "        next_number = fibonacci_sequence[-1] + fibonacci_sequence[-2]\n",
    "        fibonacci_sequence.append(next_number)\n",
    "\n",
    "    return fibonacci_sequence\n",
    "\n",
    "# Test cases\n",
    "print(fibonacci_sequence(10))  # Expected output: [0, 1, 1, 2, 3, 5, 8]\n",
    "print(fibonacci_sequence(1))  # Expected output: [0, 1, 1]\n",
    "print(fibonacci_sequence(0))  # Expected output: [0]\n",
    "print(fibonacci_sequence(-5))  # Expected: Empty list or error message\n"
   ]
  }
 ],
 "metadata": {
  "kernelspec": {
   "display_name": "Python 3",
   "language": "python",
   "name": "python3"
  },
  "language_info": {
   "codemirror_mode": {
    "name": "ipython",
    "version": 3
   },
   "file_extension": ".py",
   "mimetype": "text/x-python",
   "name": "python",
   "nbconvert_exporter": "python",
   "pygments_lexer": "ipython3",
   "version": "3.6.8"
  }
 },
 "nbformat": 4,
 "nbformat_minor": 5
}
